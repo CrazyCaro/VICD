{
 "cells": [
  {
   "cell_type": "code",
   "execution_count": 1,
   "metadata": {},
   "outputs": [
    {
     "name": "stdout",
     "output_type": "stream",
     "text": [
      "de 2012 a 2018,il y a eu 41.84304406466944 % accidents avec degats materiels legers.\n",
      "de 2012 a 2018,il y a eu 37.17033239719509 % accidents avec degats considerables sans victimes.\n",
      "de 2012 a 2018,il y a eu 20.057686356709542 % accidents avec victimes blessees legerement.\n",
      "de 2012 a 2018,il y a eu 0.8238405801332391 % accidents avec victimes blessees gravement.\n",
      "de 2012 a 2018,il y a eu 0.10451273128550659 % accidents avec morts.\n"
     ]
    }
   ],
   "source": [
    "import csv\n",
    "with open('accidents_2012_2018.csv') as csv_file5:\n",
    "    accidents5 = csv.reader(csv_file5, delimiter=',')\n",
    "    dict_gravite_detail={\"Dommages matÃ©riels infÃ©rieurs au seuil de rapportage\":\"degats materiels legers\",\n",
    "                         \"Dommages matÃ©riels seulement\":\"degats considerables sans victimes\",\n",
    "                         \"LÃ©ger\":\"victimes blessees legerement\",\n",
    "                         \"Grave\":\"victimes blessees gravement\",\n",
    "                         \"Mortel\":\"morts\"}\n",
    "    dict_gravite_pourcent={}\n",
    "    compteur5 = -1\n",
    "    for ligne5 in accidents5:\n",
    "        if compteur5 == -1:\n",
    "            compteur5 += 1\n",
    "        else:\n",
    "            if not ligne5[34] in dict_gravite_pourcent:\n",
    "                dict_gravite_pourcent.update({ligne5[34]: 1})\n",
    "            else:\n",
    "                dict_gravite_pourcent[ligne5[34]] += 1\n",
    "            compteur5+=1\n",
    "    for key5 in dict_gravite_detail:\n",
    "        dict_gravite_pourcent[key5]/=(compteur5/100)\n",
    "        print(\"de 2012 a 2018,il y a eu {} % accidents avec {}.\".format(dict_gravite_pourcent[key5], dict_gravite_detail[key5]))\n"
   ]
  },
  {
   "cell_type": "code",
   "execution_count": 2,
   "metadata": {},
   "outputs": [
    {
     "name": "stdout",
     "output_type": "stream",
     "text": [
      "{'1': {'31': 585, '32': 40838, '33': 23783, '34': 17795, '35': 104, '36': 52, '37': 393, '38': 38, '39': 263, '40': 8042, '99': 8486}, '2': {'31': 44, '32': 3260, '33': 1775, '34': 1544, '35': 16, '36': 6, '37': 31, '38': 0, '39': 25, '40': 478, '99': 697}, '3': {'31': 213, '32': 18096, '33': 10057, '34': 8582, '35': 55, '36': 39, '37': 173, '38': 16, '39': 133, '40': 1169, '99': 2968}, '4': {'31': 4, '32': 161, '33': 128, '34': 194, '35': 1, '36': 1, '37': 1, '38': 1, '39': 6, '40': 30, '99': 302}}\n"
     ]
    }
   ],
   "source": [
    "#Tableau eclairement14/localisation20\n",
    "import csv\n",
    "with open('accidents_2012_2018.csv') as csv_file6:\n",
    "    accidents6=csv.reader(csv_file6,delimiter=',')\n",
    "    compteur6=0\n",
    "    dict_localisation={\"31\":\"dans un rond point\",\n",
    "                       \"32\":\"dans une intersection\",\n",
    "                       \"33\":\"pres d'une intersection ou d'un rond point\",\n",
    "                       \"34\":\"a 100 metres d'une intersection\",\n",
    "                       \"35\":\"a un passage a niveau\",\n",
    "                       \"36\":\"sur un pont\",\n",
    "                       \"37\":\"sur un viaduc\",\n",
    "                       \"38\":\"dans un tunnel\",\n",
    "                       \"39\":\"sous un viaduc\",\n",
    "                       \"40\":\"dans une zone circulable sans voies(ex:stationnement)\",\n",
    "                       \"99\":\" dans un endroit autre\"}\n",
    "    dict_eclairages={\"1\":\"le jour en pleine clarte\",\n",
    "                     \"2\":\"le jour a demi-obscurite\",\n",
    "                     \"3\":\"la nuit avec eclairage\",\n",
    "                     \"4\":\"la nuit sans eclairage\"}\n",
    "    d1={\"31\":0,\"32\":0,\"33\":0,\"34\":0,\"35\":0,\"36\":0,\"37\":0,\"38\":0,\"39\":0,\"40\":0,\"99\":0}\n",
    "    d2={\"31\":0,\"32\":0,\"33\":0,\"34\":0,\"35\":0,\"36\":0,\"37\":0,\"38\":0,\"39\":0,\"40\":0,\"99\":0}\n",
    "    d3={\"31\":0,\"32\":0,\"33\":0,\"34\":0,\"35\":0,\"36\":0,\"37\":0,\"38\":0,\"39\":0,\"40\":0,\"99\":0}\n",
    "    d4={\"31\":0,\"32\":0,\"33\":0,\"34\":0,\"35\":0,\"36\":0,\"37\":0,\"38\":0,\"39\":0,\"40\":0,\"99\":0}\n",
    "    dict_eclairage_accidents={\"1\":d1,\n",
    "                              \"2\":d2,\n",
    "                              \"3\":d3,\n",
    "                              \"4\":d4}\n",
    "    for ligne6 in accidents6:\n",
    "        if compteur6==0:\n",
    "            compteur6+=1\n",
    "        elif not ligne6[14]!='':\n",
    "            pass\n",
    "        elif not ligne6[20]!='':\n",
    "            pass\n",
    "        else:\n",
    "            dict_eclairage_accidents[ligne6[14]][ligne6[20]]+=1\n",
    "    csv_file6.close()\n",
    "    print(dict_eclairage_accidents)\n"
   ]
  },
  {
   "cell_type": "code",
   "execution_count": null,
   "metadata": {},
   "outputs": [],
   "source": []
  }
 ],
 "metadata": {
  "kernelspec": {
   "display_name": "Python 3",
   "language": "python",
   "name": "python3"
  },
  "language_info": {
   "codemirror_mode": {
    "name": "ipython",
    "version": 3
   },
   "file_extension": ".py",
   "mimetype": "text/x-python",
   "name": "python",
   "nbconvert_exporter": "python",
   "pygments_lexer": "ipython3",
   "version": "3.7.7"
  }
 },
 "nbformat": 4,
 "nbformat_minor": 4
}
