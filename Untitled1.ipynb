{
 "cells": [
  {
   "cell_type": "code",
   "execution_count": 25,
   "metadata": {},
   "outputs": [
    {
     "name": "stdout",
     "output_type": "stream",
     "text": [
      "Requirement already satisfied: ipyleaflet in c:\\programdata\\anaconda3\\envs\\projet_gta_vincent_isra_caroline_domingo\\lib\\site-packages (0.12.4)\n",
      "Requirement already satisfied: traittypes<3,>=0.2.1 in c:\\programdata\\anaconda3\\envs\\projet_gta_vincent_isra_caroline_domingo\\lib\\site-packages (from ipyleaflet) (0.2.1)\n",
      "Requirement already satisfied: branca<0.4,>=0.3.1 in c:\\programdata\\anaconda3\\envs\\projet_gta_vincent_isra_caroline_domingo\\lib\\site-packages (from ipyleaflet) (0.3.1)\n",
      "Requirement already satisfied: xarray>=0.10 in c:\\programdata\\anaconda3\\envs\\projet_gta_vincent_isra_caroline_domingo\\lib\\site-packages (from ipyleaflet) (0.15.1)\n",
      "Requirement already satisfied: ipywidgets<8,>=7.5.0 in c:\\programdata\\anaconda3\\envs\\projet_gta_vincent_isra_caroline_domingo\\lib\\site-packages (from ipyleaflet) (7.5.1)\n",
      "Requirement already satisfied: traitlets>=4.2.2 in c:\\programdata\\anaconda3\\envs\\projet_gta_vincent_isra_caroline_domingo\\lib\\site-packages (from traittypes<3,>=0.2.1->ipyleaflet) (4.3.3)\n",
      "Requirement already satisfied: six in c:\\programdata\\anaconda3\\envs\\projet_gta_vincent_isra_caroline_domingo\\lib\\site-packages (from branca<0.4,>=0.3.1->ipyleaflet) (1.14.0)\n",
      "Requirement already satisfied: jinja2 in c:\\programdata\\anaconda3\\envs\\projet_gta_vincent_isra_caroline_domingo\\lib\\site-packages (from branca<0.4,>=0.3.1->ipyleaflet) (2.11.1)\n",
      "Requirement already satisfied: numpy>=1.15 in c:\\programdata\\anaconda3\\envs\\projet_gta_vincent_isra_caroline_domingo\\lib\\site-packages (from xarray>=0.10->ipyleaflet) (1.18.1)\n",
      "Requirement already satisfied: setuptools>=41.2 in c:\\programdata\\anaconda3\\envs\\projet_gta_vincent_isra_caroline_domingo\\lib\\site-packages (from xarray>=0.10->ipyleaflet) (46.1.3.post20200330)\n",
      "Requirement already satisfied: pandas>=0.25 in c:\\programdata\\anaconda3\\envs\\projet_gta_vincent_isra_caroline_domingo\\lib\\site-packages (from xarray>=0.10->ipyleaflet) (1.0.3)\n",
      "Requirement already satisfied: widgetsnbextension~=3.5.0 in c:\\programdata\\anaconda3\\envs\\projet_gta_vincent_isra_caroline_domingo\\lib\\site-packages (from ipywidgets<8,>=7.5.0->ipyleaflet) (3.5.1)\n",
      "Requirement already satisfied: ipython>=4.0.0; python_version >= \"3.3\" in c:\\programdata\\anaconda3\\envs\\projet_gta_vincent_isra_caroline_domingo\\lib\\site-packages (from ipywidgets<8,>=7.5.0->ipyleaflet) (7.13.0)\n",
      "Requirement already satisfied: nbformat>=4.2.0 in c:\\programdata\\anaconda3\\envs\\projet_gta_vincent_isra_caroline_domingo\\lib\\site-packages (from ipywidgets<8,>=7.5.0->ipyleaflet) (5.0.4)\n",
      "Requirement already satisfied: ipykernel>=4.5.1 in c:\\programdata\\anaconda3\\envs\\projet_gta_vincent_isra_caroline_domingo\\lib\\site-packages (from ipywidgets<8,>=7.5.0->ipyleaflet) (5.1.4)\n",
      "Requirement already satisfied: ipython-genutils in c:\\programdata\\anaconda3\\envs\\projet_gta_vincent_isra_caroline_domingo\\lib\\site-packages (from traitlets>=4.2.2->traittypes<3,>=0.2.1->ipyleaflet) (0.2.0)\n",
      "Requirement already satisfied: decorator in c:\\programdata\\anaconda3\\envs\\projet_gta_vincent_isra_caroline_domingo\\lib\\site-packages (from traitlets>=4.2.2->traittypes<3,>=0.2.1->ipyleaflet) (4.4.2)\n",
      "Requirement already satisfied: MarkupSafe>=0.23 in c:\\programdata\\anaconda3\\envs\\projet_gta_vincent_isra_caroline_domingo\\lib\\site-packages (from jinja2->branca<0.4,>=0.3.1->ipyleaflet) (1.1.1)\n",
      "Requirement already satisfied: python-dateutil>=2.6.1 in c:\\programdata\\anaconda3\\envs\\projet_gta_vincent_isra_caroline_domingo\\lib\\site-packages (from pandas>=0.25->xarray>=0.10->ipyleaflet) (2.8.1)\n",
      "Requirement already satisfied: pytz>=2017.2 in c:\\programdata\\anaconda3\\envs\\projet_gta_vincent_isra_caroline_domingo\\lib\\site-packages (from pandas>=0.25->xarray>=0.10->ipyleaflet) (2019.3)\n",
      "Requirement already satisfied: notebook>=4.4.1 in c:\\programdata\\anaconda3\\envs\\projet_gta_vincent_isra_caroline_domingo\\lib\\site-packages (from widgetsnbextension~=3.5.0->ipywidgets<8,>=7.5.0->ipyleaflet) (6.0.3)\n",
      "Requirement already satisfied: backcall in c:\\programdata\\anaconda3\\envs\\projet_gta_vincent_isra_caroline_domingo\\lib\\site-packages (from ipython>=4.0.0; python_version >= \"3.3\"->ipywidgets<8,>=7.5.0->ipyleaflet) (0.1.0)\n",
      "Requirement already satisfied: pickleshare in c:\\programdata\\anaconda3\\envs\\projet_gta_vincent_isra_caroline_domingo\\lib\\site-packages (from ipython>=4.0.0; python_version >= \"3.3\"->ipywidgets<8,>=7.5.0->ipyleaflet) (0.7.5)\n",
      "Requirement already satisfied: colorama; sys_platform == \"win32\" in c:\\programdata\\anaconda3\\envs\\projet_gta_vincent_isra_caroline_domingo\\lib\\site-packages (from ipython>=4.0.0; python_version >= \"3.3\"->ipywidgets<8,>=7.5.0->ipyleaflet) (0.4.3)\n",
      "Requirement already satisfied: pygments in c:\\programdata\\anaconda3\\envs\\projet_gta_vincent_isra_caroline_domingo\\lib\\site-packages (from ipython>=4.0.0; python_version >= \"3.3\"->ipywidgets<8,>=7.5.0->ipyleaflet) (2.6.1)\n",
      "Requirement already satisfied: jedi>=0.10 in c:\\programdata\\anaconda3\\envs\\projet_gta_vincent_isra_caroline_domingo\\lib\\site-packages (from ipython>=4.0.0; python_version >= \"3.3\"->ipywidgets<8,>=7.5.0->ipyleaflet) (0.16.0)\n",
      "Requirement already satisfied: prompt-toolkit!=3.0.0,!=3.0.1,<3.1.0,>=2.0.0 in c:\\programdata\\anaconda3\\envs\\projet_gta_vincent_isra_caroline_domingo\\lib\\site-packages (from ipython>=4.0.0; python_version >= \"3.3\"->ipywidgets<8,>=7.5.0->ipyleaflet) (3.0.4)\n",
      "Requirement already satisfied: jsonschema!=2.5.0,>=2.4 in c:\\programdata\\anaconda3\\envs\\projet_gta_vincent_isra_caroline_domingo\\lib\\site-packages (from nbformat>=4.2.0->ipywidgets<8,>=7.5.0->ipyleaflet) (3.2.0)\n",
      "Requirement already satisfied: jupyter-core in c:\\programdata\\anaconda3\\envs\\projet_gta_vincent_isra_caroline_domingo\\lib\\site-packages (from nbformat>=4.2.0->ipywidgets<8,>=7.5.0->ipyleaflet) (4.6.3)\n",
      "Requirement already satisfied: jupyter-client in c:\\programdata\\anaconda3\\envs\\projet_gta_vincent_isra_caroline_domingo\\lib\\site-packages (from ipykernel>=4.5.1->ipywidgets<8,>=7.5.0->ipyleaflet) (6.1.2)\n",
      "Requirement already satisfied: tornado>=4.2 in c:\\programdata\\anaconda3\\envs\\projet_gta_vincent_isra_caroline_domingo\\lib\\site-packages (from ipykernel>=4.5.1->ipywidgets<8,>=7.5.0->ipyleaflet) (6.0.4)\n",
      "Requirement already satisfied: pyzmq>=17 in c:\\programdata\\anaconda3\\envs\\projet_gta_vincent_isra_caroline_domingo\\lib\\site-packages (from notebook>=4.4.1->widgetsnbextension~=3.5.0->ipywidgets<8,>=7.5.0->ipyleaflet) (18.1.1)\n",
      "Requirement already satisfied: terminado>=0.8.1 in c:\\programdata\\anaconda3\\envs\\projet_gta_vincent_isra_caroline_domingo\\lib\\site-packages (from notebook>=4.4.1->widgetsnbextension~=3.5.0->ipywidgets<8,>=7.5.0->ipyleaflet) (0.8.3)\n",
      "Requirement already satisfied: nbconvert in c:\\programdata\\anaconda3\\envs\\projet_gta_vincent_isra_caroline_domingo\\lib\\site-packages (from notebook>=4.4.1->widgetsnbextension~=3.5.0->ipywidgets<8,>=7.5.0->ipyleaflet) (5.6.1)\n",
      "Requirement already satisfied: prometheus-client in c:\\programdata\\anaconda3\\envs\\projet_gta_vincent_isra_caroline_domingo\\lib\\site-packages (from notebook>=4.4.1->widgetsnbextension~=3.5.0->ipywidgets<8,>=7.5.0->ipyleaflet) (0.7.1)\n",
      "Requirement already satisfied: Send2Trash in c:\\programdata\\anaconda3\\envs\\projet_gta_vincent_isra_caroline_domingo\\lib\\site-packages (from notebook>=4.4.1->widgetsnbextension~=3.5.0->ipywidgets<8,>=7.5.0->ipyleaflet) (1.5.0)\n",
      "Requirement already satisfied: parso>=0.5.2 in c:\\programdata\\anaconda3\\envs\\projet_gta_vincent_isra_caroline_domingo\\lib\\site-packages (from jedi>=0.10->ipython>=4.0.0; python_version >= \"3.3\"->ipywidgets<8,>=7.5.0->ipyleaflet) (0.6.2)\n",
      "Requirement already satisfied: wcwidth in c:\\programdata\\anaconda3\\envs\\projet_gta_vincent_isra_caroline_domingo\\lib\\site-packages (from prompt-toolkit!=3.0.0,!=3.0.1,<3.1.0,>=2.0.0->ipython>=4.0.0; python_version >= \"3.3\"->ipywidgets<8,>=7.5.0->ipyleaflet) (0.1.9)\n",
      "Requirement already satisfied: pyrsistent>=0.14.0 in c:\\programdata\\anaconda3\\envs\\projet_gta_vincent_isra_caroline_domingo\\lib\\site-packages (from jsonschema!=2.5.0,>=2.4->nbformat>=4.2.0->ipywidgets<8,>=7.5.0->ipyleaflet) (0.16.0)\n",
      "Requirement already satisfied: attrs>=17.4.0 in c:\\programdata\\anaconda3\\envs\\projet_gta_vincent_isra_caroline_domingo\\lib\\site-packages (from jsonschema!=2.5.0,>=2.4->nbformat>=4.2.0->ipywidgets<8,>=7.5.0->ipyleaflet) (19.3.0)\n",
      "Requirement already satisfied: importlib-metadata; python_version < \"3.8\" in c:\\programdata\\anaconda3\\envs\\projet_gta_vincent_isra_caroline_domingo\\lib\\site-packages (from jsonschema!=2.5.0,>=2.4->nbformat>=4.2.0->ipywidgets<8,>=7.5.0->ipyleaflet) (1.5.0)\n",
      "Requirement already satisfied: pywin32>=1.0; sys_platform == \"win32\" in c:\\programdata\\anaconda3\\envs\\projet_gta_vincent_isra_caroline_domingo\\lib\\site-packages (from jupyter-core->nbformat>=4.2.0->ipywidgets<8,>=7.5.0->ipyleaflet) (227)\n",
      "Requirement already satisfied: mistune<2,>=0.8.1 in c:\\programdata\\anaconda3\\envs\\projet_gta_vincent_isra_caroline_domingo\\lib\\site-packages (from nbconvert->notebook>=4.4.1->widgetsnbextension~=3.5.0->ipywidgets<8,>=7.5.0->ipyleaflet) (0.8.4)\n",
      "Requirement already satisfied: testpath in c:\\programdata\\anaconda3\\envs\\projet_gta_vincent_isra_caroline_domingo\\lib\\site-packages (from nbconvert->notebook>=4.4.1->widgetsnbextension~=3.5.0->ipywidgets<8,>=7.5.0->ipyleaflet) (0.4.4)\n",
      "Requirement already satisfied: entrypoints>=0.2.2 in c:\\programdata\\anaconda3\\envs\\projet_gta_vincent_isra_caroline_domingo\\lib\\site-packages (from nbconvert->notebook>=4.4.1->widgetsnbextension~=3.5.0->ipywidgets<8,>=7.5.0->ipyleaflet) (0.3)\n",
      "Requirement already satisfied: bleach in c:\\programdata\\anaconda3\\envs\\projet_gta_vincent_isra_caroline_domingo\\lib\\site-packages (from nbconvert->notebook>=4.4.1->widgetsnbextension~=3.5.0->ipywidgets<8,>=7.5.0->ipyleaflet) (3.1.4)\n",
      "Requirement already satisfied: defusedxml in c:\\programdata\\anaconda3\\envs\\projet_gta_vincent_isra_caroline_domingo\\lib\\site-packages (from nbconvert->notebook>=4.4.1->widgetsnbextension~=3.5.0->ipywidgets<8,>=7.5.0->ipyleaflet) (0.6.0)\n",
      "Requirement already satisfied: pandocfilters>=1.4.1 in c:\\programdata\\anaconda3\\envs\\projet_gta_vincent_isra_caroline_domingo\\lib\\site-packages (from nbconvert->notebook>=4.4.1->widgetsnbextension~=3.5.0->ipywidgets<8,>=7.5.0->ipyleaflet) (1.4.2)\n",
      "Requirement already satisfied: zipp>=0.5 in c:\\programdata\\anaconda3\\envs\\projet_gta_vincent_isra_caroline_domingo\\lib\\site-packages (from importlib-metadata; python_version < \"3.8\"->jsonschema!=2.5.0,>=2.4->nbformat>=4.2.0->ipywidgets<8,>=7.5.0->ipyleaflet) (2.2.0)\n",
      "Requirement already satisfied: webencodings in c:\\programdata\\anaconda3\\envs\\projet_gta_vincent_isra_caroline_domingo\\lib\\site-packages (from bleach->nbconvert->notebook>=4.4.1->widgetsnbextension~=3.5.0->ipywidgets<8,>=7.5.0->ipyleaflet) (0.5.1)\n"
     ]
    }
   ],
   "source": [
    "!pip install ipyleaflet"
   ]
  },
  {
   "cell_type": "code",
   "execution_count": 24,
   "metadata": {
    "scrolled": false
   },
   "outputs": [
    {
     "data": {
      "application/vnd.jupyter.widget-view+json": {
       "model_id": "b0fb2f61e9d84757bb2812030ab806d7",
       "version_major": 2,
       "version_minor": 0
      },
      "text/plain": [
       "Map(center=[45.5298438815, -73.686528322546], controls=(ZoomControl(options=['position', 'zoom_in_text', 'zoom…"
      ]
     },
     "metadata": {},
     "output_type": "display_data"
    }
   ],
   "source": [
    "### LongX LattY\n",
    "import csv\n",
    "\n",
    "with open('accidents_2012_2018.csv') as csv_file7:\n",
    "    accidents7 = csv.reader(csv_file7, delimiter=',')\n",
    "    compteur7 = 0\n",
    "    max_lattitude=-10000\n",
    "    max_longitude=-10000\n",
    "    min_lattitude=1000000000000\n",
    "    min_longitude=1000000000000\n",
    "    dict_coordonnees={}\n",
    "    for ligne7 in accidents7:\n",
    "        if '2018/01/23' in ligne7[2]:\n",
    "            latitude=ligne7[67]\n",
    "            latitude=float(latitude[:12])\n",
    "            dict_coordonnees.update({compteur7:[latitude,ligne7[66]]})\n",
    "            if latitude>max_lattitude:\n",
    "                max_lattitude=latitude\n",
    "            if latitude<min_lattitude:\n",
    "                min_lattitude=latitude\n",
    "            if float(ligne7[66])>max_longitude:\n",
    "                max_longitude=float(ligne7[66])\n",
    "            if float(ligne7[66])<min_longitude:\n",
    "                min_longitude=float(ligne7[66])\n",
    "            compteur7+=1\n",
    "    centre=[(max_lattitude+min_lattitude)/2,(max_longitude+min_longitude)/2]\n",
    "    csv_file7.close()\n",
    "import ipyleaflet\n",
    "from ipyleaflet import (Map,Marker)\n",
    "map_montreal=Map(center=centre,zoom=10)\n",
    "display(map_montreal)\n",
    "for coordonnees in dict_coordonnees:\n",
    "    latlng=[float(dict_coordonnees[coordonnees][0]),float(dict_coordonnees[coordonnees][1])]\n",
    "    marker=Marker(location=latlng)\n",
    "    map_montreal.add_control(marker)\n"
   ]
  },
  {
   "cell_type": "code",
   "execution_count": null,
   "metadata": {},
   "outputs": [],
   "source": []
  }
 ],
 "metadata": {
  "kernelspec": {
   "display_name": "Python 3",
   "language": "python",
   "name": "python3"
  },
  "language_info": {
   "codemirror_mode": {
    "name": "ipython",
    "version": 3
   },
   "file_extension": ".py",
   "mimetype": "text/x-python",
   "name": "python",
   "nbconvert_exporter": "python",
   "pygments_lexer": "ipython3",
   "version": "3.7.7"
  }
 },
 "nbformat": 4,
 "nbformat_minor": 4
}
